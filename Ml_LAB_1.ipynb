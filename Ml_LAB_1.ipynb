{
  "nbformat": 4,
  "nbformat_minor": 0,
  "metadata": {
    "colab": {
      "provenance": [],
      "authorship_tag": "ABX9TyMLts8ma+61sa0gUqPJq4Or",
      "include_colab_link": true
    },
    "kernelspec": {
      "name": "python3",
      "display_name": "Python 3"
    },
    "language_info": {
      "name": "python"
    }
  },
  "cells": [
    {
      "cell_type": "markdown",
      "metadata": {
        "id": "view-in-github",
        "colab_type": "text"
      },
      "source": [
        "<a href=\"https://colab.research.google.com/github/devyaniii12/ML_LAB_1/blob/main/Ml_LAB_1.ipynb\" target=\"_parent\"><img src=\"https://colab.research.google.com/assets/colab-badge.svg\" alt=\"Open In Colab\"/></a>"
      ]
    },
    {
      "cell_type": "code",
      "execution_count": null,
      "metadata": {
        "id": "B4CY1F5G43I5"
      },
      "outputs": [],
      "source": []
    },
    {
      "cell_type": "code",
      "source": [
        "import numpy as np\n",
        "import pandas as pd\n",
        "import matplotlib.pyplot as plt\n",
        "%matplotlib inline"
      ],
      "metadata": {
        "id": "jMpr_Cm05WVl"
      },
      "execution_count": null,
      "outputs": []
    },
    {
      "cell_type": "code",
      "source": [
        "data=pd.read_csv(\"/content/ex1data1.csv\",names=[\"Population\",\"Profit\"])\n",
        "print(data)"
      ],
      "metadata": {
        "colab": {
          "base_uri": "https://localhost:8080/"
        },
        "id": "wl8hj49i5cWV",
        "outputId": "251d6c05-85c4-48c2-8da3-e1c1ccbffe35"
      },
      "execution_count": null,
      "outputs": [
        {
          "output_type": "stream",
          "name": "stdout",
          "text": [
            "    Population    Profit\n",
            "0       6.1101  17.59200\n",
            "1       5.5277   9.13020\n",
            "2       8.5186  13.66200\n",
            "3       7.0032  11.85400\n",
            "4       5.8598   6.82330\n",
            "..         ...       ...\n",
            "92      5.8707   7.20290\n",
            "93      5.3054   1.98690\n",
            "94      8.2934   0.14454\n",
            "95     13.3940   9.05510\n",
            "96      5.4369   0.61705\n",
            "\n",
            "[97 rows x 2 columns]\n"
          ]
        }
      ]
    },
    {
      "cell_type": "code",
      "source": [
        "data.describe()"
      ],
      "metadata": {
        "colab": {
          "base_uri": "https://localhost:8080/",
          "height": 300
        },
        "id": "Wrz5jWRT8XQa",
        "outputId": "9b7e5dc7-1ae4-4e11-dc2d-3eeecbbe6aab"
      },
      "execution_count": null,
      "outputs": [
        {
          "output_type": "execute_result",
          "data": {
            "text/plain": [
              "       Population     Profit\n",
              "count   97.000000  97.000000\n",
              "mean     8.159800   5.839135\n",
              "std      3.869884   5.510262\n",
              "min      5.026900  -2.680700\n",
              "25%      5.707700   1.986900\n",
              "50%      6.589400   4.562300\n",
              "75%      8.578100   7.046700\n",
              "max     22.203000  24.147000"
            ],
            "text/html": [
              "\n",
              "  <div id=\"df-5a250658-a404-4126-99ff-af5f250c6ce4\" class=\"colab-df-container\">\n",
              "    <div>\n",
              "<style scoped>\n",
              "    .dataframe tbody tr th:only-of-type {\n",
              "        vertical-align: middle;\n",
              "    }\n",
              "\n",
              "    .dataframe tbody tr th {\n",
              "        vertical-align: top;\n",
              "    }\n",
              "\n",
              "    .dataframe thead th {\n",
              "        text-align: right;\n",
              "    }\n",
              "</style>\n",
              "<table border=\"1\" class=\"dataframe\">\n",
              "  <thead>\n",
              "    <tr style=\"text-align: right;\">\n",
              "      <th></th>\n",
              "      <th>Population</th>\n",
              "      <th>Profit</th>\n",
              "    </tr>\n",
              "  </thead>\n",
              "  <tbody>\n",
              "    <tr>\n",
              "      <th>count</th>\n",
              "      <td>97.000000</td>\n",
              "      <td>97.000000</td>\n",
              "    </tr>\n",
              "    <tr>\n",
              "      <th>mean</th>\n",
              "      <td>8.159800</td>\n",
              "      <td>5.839135</td>\n",
              "    </tr>\n",
              "    <tr>\n",
              "      <th>std</th>\n",
              "      <td>3.869884</td>\n",
              "      <td>5.510262</td>\n",
              "    </tr>\n",
              "    <tr>\n",
              "      <th>min</th>\n",
              "      <td>5.026900</td>\n",
              "      <td>-2.680700</td>\n",
              "    </tr>\n",
              "    <tr>\n",
              "      <th>25%</th>\n",
              "      <td>5.707700</td>\n",
              "      <td>1.986900</td>\n",
              "    </tr>\n",
              "    <tr>\n",
              "      <th>50%</th>\n",
              "      <td>6.589400</td>\n",
              "      <td>4.562300</td>\n",
              "    </tr>\n",
              "    <tr>\n",
              "      <th>75%</th>\n",
              "      <td>8.578100</td>\n",
              "      <td>7.046700</td>\n",
              "    </tr>\n",
              "    <tr>\n",
              "      <th>max</th>\n",
              "      <td>22.203000</td>\n",
              "      <td>24.147000</td>\n",
              "    </tr>\n",
              "  </tbody>\n",
              "</table>\n",
              "</div>\n",
              "    <div class=\"colab-df-buttons\">\n",
              "\n",
              "  <div class=\"colab-df-container\">\n",
              "    <button class=\"colab-df-convert\" onclick=\"convertToInteractive('df-5a250658-a404-4126-99ff-af5f250c6ce4')\"\n",
              "            title=\"Convert this dataframe to an interactive table.\"\n",
              "            style=\"display:none;\">\n",
              "\n",
              "  <svg xmlns=\"http://www.w3.org/2000/svg\" height=\"24px\" viewBox=\"0 -960 960 960\">\n",
              "    <path d=\"M120-120v-720h720v720H120Zm60-500h600v-160H180v160Zm220 220h160v-160H400v160Zm0 220h160v-160H400v160ZM180-400h160v-160H180v160Zm440 0h160v-160H620v160ZM180-180h160v-160H180v160Zm440 0h160v-160H620v160Z\"/>\n",
              "  </svg>\n",
              "    </button>\n",
              "\n",
              "  <style>\n",
              "    .colab-df-container {\n",
              "      display:flex;\n",
              "      gap: 12px;\n",
              "    }\n",
              "\n",
              "    .colab-df-convert {\n",
              "      background-color: #E8F0FE;\n",
              "      border: none;\n",
              "      border-radius: 50%;\n",
              "      cursor: pointer;\n",
              "      display: none;\n",
              "      fill: #1967D2;\n",
              "      height: 32px;\n",
              "      padding: 0 0 0 0;\n",
              "      width: 32px;\n",
              "    }\n",
              "\n",
              "    .colab-df-convert:hover {\n",
              "      background-color: #E2EBFA;\n",
              "      box-shadow: 0px 1px 2px rgba(60, 64, 67, 0.3), 0px 1px 3px 1px rgba(60, 64, 67, 0.15);\n",
              "      fill: #174EA6;\n",
              "    }\n",
              "\n",
              "    .colab-df-buttons div {\n",
              "      margin-bottom: 4px;\n",
              "    }\n",
              "\n",
              "    [theme=dark] .colab-df-convert {\n",
              "      background-color: #3B4455;\n",
              "      fill: #D2E3FC;\n",
              "    }\n",
              "\n",
              "    [theme=dark] .colab-df-convert:hover {\n",
              "      background-color: #434B5C;\n",
              "      box-shadow: 0px 1px 3px 1px rgba(0, 0, 0, 0.15);\n",
              "      filter: drop-shadow(0px 1px 2px rgba(0, 0, 0, 0.3));\n",
              "      fill: #FFFFFF;\n",
              "    }\n",
              "  </style>\n",
              "\n",
              "    <script>\n",
              "      const buttonEl =\n",
              "        document.querySelector('#df-5a250658-a404-4126-99ff-af5f250c6ce4 button.colab-df-convert');\n",
              "      buttonEl.style.display =\n",
              "        google.colab.kernel.accessAllowed ? 'block' : 'none';\n",
              "\n",
              "      async function convertToInteractive(key) {\n",
              "        const element = document.querySelector('#df-5a250658-a404-4126-99ff-af5f250c6ce4');\n",
              "        const dataTable =\n",
              "          await google.colab.kernel.invokeFunction('convertToInteractive',\n",
              "                                                    [key], {});\n",
              "        if (!dataTable) return;\n",
              "\n",
              "        const docLinkHtml = 'Like what you see? Visit the ' +\n",
              "          '<a target=\"_blank\" href=https://colab.research.google.com/notebooks/data_table.ipynb>data table notebook</a>'\n",
              "          + ' to learn more about interactive tables.';\n",
              "        element.innerHTML = '';\n",
              "        dataTable['output_type'] = 'display_data';\n",
              "        await google.colab.output.renderOutput(dataTable, element);\n",
              "        const docLink = document.createElement('div');\n",
              "        docLink.innerHTML = docLinkHtml;\n",
              "        element.appendChild(docLink);\n",
              "      }\n",
              "    </script>\n",
              "  </div>\n",
              "\n",
              "\n",
              "<div id=\"df-212b873d-5c76-4c32-a97c-c2cade052c18\">\n",
              "  <button class=\"colab-df-quickchart\" onclick=\"quickchart('df-212b873d-5c76-4c32-a97c-c2cade052c18')\"\n",
              "            title=\"Suggest charts\"\n",
              "            style=\"display:none;\">\n",
              "\n",
              "<svg xmlns=\"http://www.w3.org/2000/svg\" height=\"24px\"viewBox=\"0 0 24 24\"\n",
              "     width=\"24px\">\n",
              "    <g>\n",
              "        <path d=\"M19 3H5c-1.1 0-2 .9-2 2v14c0 1.1.9 2 2 2h14c1.1 0 2-.9 2-2V5c0-1.1-.9-2-2-2zM9 17H7v-7h2v7zm4 0h-2V7h2v10zm4 0h-2v-4h2v4z\"/>\n",
              "    </g>\n",
              "</svg>\n",
              "  </button>\n",
              "\n",
              "<style>\n",
              "  .colab-df-quickchart {\n",
              "      --bg-color: #E8F0FE;\n",
              "      --fill-color: #1967D2;\n",
              "      --hover-bg-color: #E2EBFA;\n",
              "      --hover-fill-color: #174EA6;\n",
              "      --disabled-fill-color: #AAA;\n",
              "      --disabled-bg-color: #DDD;\n",
              "  }\n",
              "\n",
              "  [theme=dark] .colab-df-quickchart {\n",
              "      --bg-color: #3B4455;\n",
              "      --fill-color: #D2E3FC;\n",
              "      --hover-bg-color: #434B5C;\n",
              "      --hover-fill-color: #FFFFFF;\n",
              "      --disabled-bg-color: #3B4455;\n",
              "      --disabled-fill-color: #666;\n",
              "  }\n",
              "\n",
              "  .colab-df-quickchart {\n",
              "    background-color: var(--bg-color);\n",
              "    border: none;\n",
              "    border-radius: 50%;\n",
              "    cursor: pointer;\n",
              "    display: none;\n",
              "    fill: var(--fill-color);\n",
              "    height: 32px;\n",
              "    padding: 0;\n",
              "    width: 32px;\n",
              "  }\n",
              "\n",
              "  .colab-df-quickchart:hover {\n",
              "    background-color: var(--hover-bg-color);\n",
              "    box-shadow: 0 1px 2px rgba(60, 64, 67, 0.3), 0 1px 3px 1px rgba(60, 64, 67, 0.15);\n",
              "    fill: var(--button-hover-fill-color);\n",
              "  }\n",
              "\n",
              "  .colab-df-quickchart-complete:disabled,\n",
              "  .colab-df-quickchart-complete:disabled:hover {\n",
              "    background-color: var(--disabled-bg-color);\n",
              "    fill: var(--disabled-fill-color);\n",
              "    box-shadow: none;\n",
              "  }\n",
              "\n",
              "  .colab-df-spinner {\n",
              "    border: 2px solid var(--fill-color);\n",
              "    border-color: transparent;\n",
              "    border-bottom-color: var(--fill-color);\n",
              "    animation:\n",
              "      spin 1s steps(1) infinite;\n",
              "  }\n",
              "\n",
              "  @keyframes spin {\n",
              "    0% {\n",
              "      border-color: transparent;\n",
              "      border-bottom-color: var(--fill-color);\n",
              "      border-left-color: var(--fill-color);\n",
              "    }\n",
              "    20% {\n",
              "      border-color: transparent;\n",
              "      border-left-color: var(--fill-color);\n",
              "      border-top-color: var(--fill-color);\n",
              "    }\n",
              "    30% {\n",
              "      border-color: transparent;\n",
              "      border-left-color: var(--fill-color);\n",
              "      border-top-color: var(--fill-color);\n",
              "      border-right-color: var(--fill-color);\n",
              "    }\n",
              "    40% {\n",
              "      border-color: transparent;\n",
              "      border-right-color: var(--fill-color);\n",
              "      border-top-color: var(--fill-color);\n",
              "    }\n",
              "    60% {\n",
              "      border-color: transparent;\n",
              "      border-right-color: var(--fill-color);\n",
              "    }\n",
              "    80% {\n",
              "      border-color: transparent;\n",
              "      border-right-color: var(--fill-color);\n",
              "      border-bottom-color: var(--fill-color);\n",
              "    }\n",
              "    90% {\n",
              "      border-color: transparent;\n",
              "      border-bottom-color: var(--fill-color);\n",
              "    }\n",
              "  }\n",
              "</style>\n",
              "\n",
              "  <script>\n",
              "    async function quickchart(key) {\n",
              "      const quickchartButtonEl =\n",
              "        document.querySelector('#' + key + ' button');\n",
              "      quickchartButtonEl.disabled = true;  // To prevent multiple clicks.\n",
              "      quickchartButtonEl.classList.add('colab-df-spinner');\n",
              "      try {\n",
              "        const charts = await google.colab.kernel.invokeFunction(\n",
              "            'suggestCharts', [key], {});\n",
              "      } catch (error) {\n",
              "        console.error('Error during call to suggestCharts:', error);\n",
              "      }\n",
              "      quickchartButtonEl.classList.remove('colab-df-spinner');\n",
              "      quickchartButtonEl.classList.add('colab-df-quickchart-complete');\n",
              "    }\n",
              "    (() => {\n",
              "      let quickchartButtonEl =\n",
              "        document.querySelector('#df-212b873d-5c76-4c32-a97c-c2cade052c18 button');\n",
              "      quickchartButtonEl.style.display =\n",
              "        google.colab.kernel.accessAllowed ? 'block' : 'none';\n",
              "    })();\n",
              "  </script>\n",
              "</div>\n",
              "\n",
              "    </div>\n",
              "  </div>\n"
            ],
            "application/vnd.google.colaboratory.intrinsic+json": {
              "type": "dataframe",
              "summary": "{\n  \"name\": \"data\",\n  \"rows\": 8,\n  \"fields\": [\n    {\n      \"column\": \"Population\",\n      \"properties\": {\n        \"dtype\": \"number\",\n        \"std\": 31.784914602764157,\n        \"min\": 3.8698835278823314,\n        \"max\": 97.0,\n        \"num_unique_values\": 8,\n        \"samples\": [\n          8.159799999999999,\n          6.5894,\n          97.0\n        ],\n        \"semantic_type\": \"\",\n        \"description\": \"\"\n      }\n    },\n    {\n      \"column\": \"Profit\",\n      \"properties\": {\n        \"dtype\": \"number\",\n        \"std\": 32.87917231164401,\n        \"min\": -2.6807,\n        \"max\": 97.0,\n        \"num_unique_values\": 8,\n        \"samples\": [\n          5.839135051546393,\n          4.5623,\n          97.0\n        ],\n        \"semantic_type\": \"\",\n        \"description\": \"\"\n      }\n    }\n  ]\n}"
            }
          },
          "metadata": {},
          "execution_count": 14
        }
      ]
    },
    {
      "cell_type": "code",
      "source": [],
      "metadata": {
        "id": "PqnEPcuI9KrD"
      },
      "execution_count": null,
      "outputs": []
    },
    {
      "cell_type": "code",
      "source": [
        "data.plot(kind='scatter',x=\"Population\",y=\"Profit\",figsize=(8,6))"
      ],
      "metadata": {
        "colab": {
          "base_uri": "https://localhost:8080/",
          "height": 559
        },
        "id": "YPSXf7lO8ZPC",
        "outputId": "2c33d62c-f201-4c7d-a1be-07a9ab8f2004"
      },
      "execution_count": null,
      "outputs": [
        {
          "output_type": "execute_result",
          "data": {
            "text/plain": [
              "<Axes: xlabel='Population', ylabel='Profit'>"
            ]
          },
          "metadata": {},
          "execution_count": 19
        },
        {
          "output_type": "display_data",
          "data": {
            "text/plain": [
              "<Figure size 800x600 with 1 Axes>"
            ],
            "image/png": "[encoded data removed]"
          },
          "metadata": {}
        }
      ]
    },
    {
      "cell_type": "code",
      "source": [
        "data.shape"
      ],
      "metadata": {
        "colab": {
          "base_uri": "https://localhost:8080/"
        },
        "id": "0siC0u7O8ZSd",
        "outputId": "1ba5f56c-a0ec-408b-e908-28c3653dd0d9"
      },
      "execution_count": null,
      "outputs": [
        {
          "output_type": "execute_result",
          "data": {
            "text/plain": [
              "(97, 2)"
            ]
          },
          "metadata": {},
          "execution_count": 29
        }
      ]
    },
    {
      "cell_type": "code",
      "source": [
        "data.shape[0]"
      ],
      "metadata": {
        "colab": {
          "base_uri": "https://localhost:8080/"
        },
        "id": "sG0mPO8m-Ggl",
        "outputId": "594a2dda-d633-4156-dd7c-d7834e837c6d"
      },
      "execution_count": null,
      "outputs": [
        {
          "output_type": "execute_result",
          "data": {
            "text/plain": [
              "97"
            ]
          },
          "metadata": {},
          "execution_count": 30
        }
      ]
    },
    {
      "cell_type": "code",
      "source": [
        "data.shape[1]"
      ],
      "metadata": {
        "colab": {
          "base_uri": "https://localhost:8080/"
        },
        "id": "od2qYPQ1-J5j",
        "outputId": "598e7145-33f5-468d-fbdf-43578cd87ee1"
      },
      "execution_count": null,
      "outputs": [
        {
          "output_type": "execute_result",
          "data": {
            "text/plain": [
              "2"
            ]
          },
          "metadata": {},
          "execution_count": 31
        }
      ]
    },
    {
      "cell_type": "code",
      "source": [
        "data.insert(0,\"ones\",1)"
      ],
      "metadata": {
        "id": "oVjA2uCfAAgT"
      },
      "execution_count": null,
      "outputs": []
    },
    {
      "cell_type": "code",
      "source": [
        "cols=data.shape[1]\n",
        "X = data.iloc[:,0:cols-1]\n",
        "Y = data.iloc[: , cols-1:cols]"
      ],
      "metadata": {
        "id": "Yj-XvqFQ-ctj"
      },
      "execution_count": null,
      "outputs": []
    },
    {
      "cell_type": "code",
      "source": [
        "data.shape\n"
      ],
      "metadata": {
        "colab": {
          "base_uri": "https://localhost:8080/"
        },
        "id": "jY-lueTB_hSv",
        "outputId": "e08ed704-335d-4790-c522-20c56cb92f1f"
      },
      "execution_count": null,
      "outputs": [
        {
          "output_type": "execute_result",
          "data": {
            "text/plain": [
              "(97, 3)"
            ]
          },
          "metadata": {},
          "execution_count": 35
        }
      ]
    },
    {
      "cell_type": "code",
      "source": [
        "print(data)\n"
      ],
      "metadata": {
        "colab": {
          "base_uri": "https://localhost:8080/"
        },
        "id": "uSLV2oW5Akut",
        "outputId": "71c218ab-25ca-47f5-f8cb-2ddd9492f409"
      },
      "execution_count": null,
      "outputs": [
        {
          "output_type": "stream",
          "name": "stdout",
          "text": [
            "    ones  Population    Profit\n",
            "0      1      6.1101  17.59200\n",
            "1      1      5.5277   9.13020\n",
            "2      1      8.5186  13.66200\n",
            "3      1      7.0032  11.85400\n",
            "4      1      5.8598   6.82330\n",
            "..   ...         ...       ...\n",
            "92     1      5.8707   7.20290\n",
            "93     1      5.3054   1.98690\n",
            "94     1      8.2934   0.14454\n",
            "95     1     13.3940   9.05510\n",
            "96     1      5.4369   0.61705\n",
            "\n",
            "[97 rows x 3 columns]\n"
          ]
        }
      ]
    },
    {
      "cell_type": "code",
      "source": [
        "x_matrix=np.matrix(X.values)\n",
        "y_matrix=np.matrix(Y.values)\n",
        "theta = np.matrix(np.array([0,0]))\n",
        "\n",
        "print(theta)\n",
        "print(x_matrix)\n",
        "print(y_matrix)\n",
        "y_matrix.shape\n",
        "x_matrix.shape\n"
      ],
      "metadata": {
        "colab": {
          "base_uri": "https://localhost:8080/"
        },
        "id": "xr_vn8g0A4_o",
        "outputId": "5242b8e0-f496-4f14-9c8d-47215b78e038"
      },
      "execution_count": null,
      "outputs": [
        {
          "output_type": "stream",
          "name": "stdout",
          "text": [
            "[[0 0]]\n",
            "[[ 1.      6.1101]\n",
            " [ 1.      5.5277]\n",
            " [ 1.      8.5186]\n",
            " [ 1.      7.0032]\n",
            " [ 1.      5.8598]\n",
            " [ 1.      8.3829]\n",
            " [ 1.      7.4764]\n",
            " [ 1.      8.5781]\n",
            " [ 1.      6.4862]\n",
            " [ 1.      5.0546]\n",
            " [ 1.      5.7107]\n",
            " [ 1.     14.164 ]\n",
            " [ 1.      5.734 ]\n",
            " [ 1.      8.4084]\n",
            " [ 1.      5.6407]\n",
            " [ 1.      5.3794]\n",
            " [ 1.      6.3654]\n",
            " [ 1.      5.1301]\n",
            " [ 1.      6.4296]\n",
            " [ 1.      7.0708]\n",
            " [ 1.      6.1891]\n",
            " [ 1.     20.27  ]\n",
            " [ 1.      5.4901]\n",
            " [ 1.      6.3261]\n",
            " [ 1.      5.5649]\n",
            " [ 1.     18.945 ]\n",
            " [ 1.     12.828 ]\n",
            " [ 1.     10.957 ]\n",
            " [ 1.     13.176 ]\n",
            " [ 1.     22.203 ]\n",
            " [ 1.      5.2524]\n",
            " [ 1.      6.5894]\n",
            " [ 1.      9.2482]\n",
            " [ 1.      5.8918]\n",
            " [ 1.      8.2111]\n",
            " [ 1.      7.9334]\n",
            " [ 1.      8.0959]\n",
            " [ 1.      5.6063]\n",
            " [ 1.     12.836 ]\n",
            " [ 1.      6.3534]\n",
            " [ 1.      5.4069]\n",
            " [ 1.      6.8825]\n",
            " [ 1.     11.708 ]\n",
            " [ 1.      5.7737]\n",
            " [ 1.      7.8247]\n",
            " [ 1.      7.0931]\n",
            " [ 1.      5.0702]\n",
            " [ 1.      5.8014]\n",
            " [ 1.     11.7   ]\n",
            " [ 1.      5.5416]\n",
            " [ 1.      7.5402]\n",
            " [ 1.      5.3077]\n",
            " [ 1.      7.4239]\n",
            " [ 1.      7.6031]\n",
            " [ 1.      6.3328]\n",
            " [ 1.      6.3589]\n",
            " [ 1.      6.2742]\n",
            " [ 1.      5.6397]\n",
            " [ 1.      9.3102]\n",
            " [ 1.      9.4536]\n",
            " [ 1.      8.8254]\n",
            " [ 1.      5.1793]\n",
            " [ 1.     21.279 ]\n",
            " [ 1.     14.908 ]\n",
            " [ 1.     18.959 ]\n",
            " [ 1.      7.2182]\n",
            " [ 1.      8.2951]\n",
            " [ 1.     10.236 ]\n",
            " [ 1.      5.4994]\n",
            " [ 1.     20.341 ]\n",
            " [ 1.     10.136 ]\n",
            " [ 1.      7.3345]\n",
            " [ 1.      6.0062]\n",
            " [ 1.      7.2259]\n",
            " [ 1.      5.0269]\n",
            " [ 1.      6.5479]\n",
            " [ 1.      7.5386]\n",
            " [ 1.      5.0365]\n",
            " [ 1.     10.274 ]\n",
            " [ 1.      5.1077]\n",
            " [ 1.      5.7292]\n",
            " [ 1.      5.1884]\n",
            " [ 1.      6.3557]\n",
            " [ 1.      9.7687]\n",
            " [ 1.      6.5159]\n",
            " [ 1.      8.5172]\n",
            " [ 1.      9.1802]\n",
            " [ 1.      6.002 ]\n",
            " [ 1.      5.5204]\n",
            " [ 1.      5.0594]\n",
            " [ 1.      5.7077]\n",
            " [ 1.      7.6366]\n",
            " [ 1.      5.8707]\n",
            " [ 1.      5.3054]\n",
            " [ 1.      8.2934]\n",
            " [ 1.     13.394 ]\n",
            " [ 1.      5.4369]]\n",
            "[[17.592  ]\n",
            " [ 9.1302 ]\n",
            " [13.662  ]\n",
            " [11.854  ]\n",
            " [ 6.8233 ]\n",
            " [11.886  ]\n",
            " [ 4.3483 ]\n",
            " [12.     ]\n",
            " [ 6.5987 ]\n",
            " [ 3.8166 ]\n",
            " [ 3.2522 ]\n",
            " [15.505  ]\n",
            " [ 3.1551 ]\n",
            " [ 7.2258 ]\n",
            " [ 0.71618]\n",
            " [ 3.5129 ]\n",
            " [ 5.3048 ]\n",
            " [ 0.56077]\n",
            " [ 3.6518 ]\n",
            " [ 5.3893 ]\n",
            " [ 3.1386 ]\n",
            " [21.767  ]\n",
            " [ 4.263  ]\n",
            " [ 5.1875 ]\n",
            " [ 3.0825 ]\n",
            " [22.638  ]\n",
            " [13.501  ]\n",
            " [ 7.0467 ]\n",
            " [14.692  ]\n",
            " [24.147  ]\n",
            " [-1.22   ]\n",
            " [ 5.9966 ]\n",
            " [12.134  ]\n",
            " [ 1.8495 ]\n",
            " [ 6.5426 ]\n",
            " [ 4.5623 ]\n",
            " [ 4.1164 ]\n",
            " [ 3.3928 ]\n",
            " [10.117  ]\n",
            " [ 5.4974 ]\n",
            " [ 0.55657]\n",
            " [ 3.9115 ]\n",
            " [ 5.3854 ]\n",
            " [ 2.4406 ]\n",
            " [ 6.7318 ]\n",
            " [ 1.0463 ]\n",
            " [ 5.1337 ]\n",
            " [ 1.844  ]\n",
            " [ 8.0043 ]\n",
            " [ 1.0179 ]\n",
            " [ 6.7504 ]\n",
            " [ 1.8396 ]\n",
            " [ 4.2885 ]\n",
            " [ 4.9981 ]\n",
            " [ 1.4233 ]\n",
            " [-1.4211 ]\n",
            " [ 2.4756 ]\n",
            " [ 4.6042 ]\n",
            " [ 3.9624 ]\n",
            " [ 5.4141 ]\n",
            " [ 5.1694 ]\n",
            " [-0.74279]\n",
            " [17.929  ]\n",
            " [12.054  ]\n",
            " [17.054  ]\n",
            " [ 4.8852 ]\n",
            " [ 5.7442 ]\n",
            " [ 7.7754 ]\n",
            " [ 1.0173 ]\n",
            " [20.992  ]\n",
            " [ 6.6799 ]\n",
            " [ 4.0259 ]\n",
            " [ 1.2784 ]\n",
            " [ 3.3411 ]\n",
            " [-2.6807 ]\n",
            " [ 0.29678]\n",
            " [ 3.8845 ]\n",
            " [ 5.7014 ]\n",
            " [ 6.7526 ]\n",
            " [ 2.0576 ]\n",
            " [ 0.47953]\n",
            " [ 0.20421]\n",
            " [ 0.67861]\n",
            " [ 7.5435 ]\n",
            " [ 5.3436 ]\n",
            " [ 4.2415 ]\n",
            " [ 6.7981 ]\n",
            " [ 0.92695]\n",
            " [ 0.152  ]\n",
            " [ 2.8214 ]\n",
            " [ 1.8451 ]\n",
            " [ 4.2959 ]\n",
            " [ 7.2029 ]\n",
            " [ 1.9869 ]\n",
            " [ 0.14454]\n",
            " [ 9.0551 ]\n",
            " [ 0.61705]]\n"
          ]
        },
        {
          "output_type": "execute_result",
          "data": {
            "text/plain": [
              "(97, 2)"
            ]
          },
          "metadata": {},
          "execution_count": 44
        }
      ]
    },
    {
      "cell_type": "code",
      "source": [
        "theta.shape"
      ],
      "metadata": {
        "colab": {
          "base_uri": "https://localhost:8080/"
        },
        "id": "UFuEgDpkB7Eo",
        "outputId": "c7afb9e0-b28f-4bfc-d03e-4bbe48588fa8"
      },
      "execution_count": null,
      "outputs": [
        {
          "output_type": "execute_result",
          "data": {
            "text/plain": [
              "(1, 2)"
            ]
          },
          "metadata": {},
          "execution_count": 45
        }
      ]
    },
    {
      "cell_type": "code",
      "source": [
        "X.shape\n"
      ],
      "metadata": {
        "colab": {
          "base_uri": "https://localhost:8080/"
        },
        "id": "owpXe-RlEOI3",
        "outputId": "4591147e-37a0-4862-d1b8-4ccd11675569"
      },
      "execution_count": null,
      "outputs": [
        {
          "output_type": "execute_result",
          "data": {
            "text/plain": [
              "(97, 2)"
            ]
          },
          "metadata": {},
          "execution_count": 59
        }
      ]
    },
    {
      "cell_type": "code",
      "source": [
        "theta.T.shape"
      ],
      "metadata": {
        "colab": {
          "base_uri": "https://localhost:8080/"
        },
        "id": "18zmkurpEWzz",
        "outputId": "f29ab02d-0ef1-434a-a703-53f2a2b9eae0"
      },
      "execution_count": null,
      "outputs": [
        {
          "output_type": "execute_result",
          "data": {
            "text/plain": [
              "(2, 1)"
            ]
          },
          "metadata": {},
          "execution_count": 60
        }
      ]
    },
    {
      "cell_type": "code",
      "source": [
        "!pip install numpy\n",
        "import numpy as np\n",
        "\n",
        "def costFun(x, y, theta):\n",
        "\n",
        "  m = len(y)  # Number of training examples\n",
        "\n",
        "  # Calculate the predictions (hypothesis)\n",
        "  predictions = x.dot(theta)\n",
        "\n",
        "  # Calculate the squared errors\n",
        "  squared_errors = np.square(predictions - y)\n",
        "\n",
        "  # Calculate the cost\n",
        "  cost = np.sum(squared_errors) / (2 * m)\n",
        "\n",
        "  return cost"
      ],
      "metadata": {
        "colab": {
          "base_uri": "https://localhost:8080/"
        },
        "id": "eeBCu8JYJiA2",
        "outputId": "c3aa0405-6fcf-439f-bf16-3d6148710cb1"
      },
      "execution_count": null,
      "outputs": [
        {
          "output_type": "stream",
          "name": "stdout",
          "text": [
            "Requirement already satisfied: numpy in /usr/local/lib/python3.10/dist-packages (1.26.4)\n"
          ]
        }
      ]
    },
    {
      "cell_type": "code",
      "source": [
        "print(costFun(x_matrix,y_matrix,theta))"
      ],
      "metadata": {
        "colab": {
          "base_uri": "https://localhost:8080/"
        },
        "id": "Y_YeEIAIKCTx",
        "outputId": "39a68f43-ab9c-4361-8b28-f7ee66c26e32"
      },
      "execution_count": null,
      "outputs": [
        {
          "output_type": "stream",
          "name": "stdout",
          "text": [
            "32.072733877455676\n"
          ]
        }
      ]
    },
    {
      "cell_type": "code",
      "source": [
        "def gradientDescent(x, y, theta, alpha, iterations):\n",
        "  temp=np.matrix(np.zeros(theta.shape))\n",
        "  parameters=int(theta.shape[1])\n",
        "  cost=np.zeros(iterations)\n",
        "  for i in range(iterations):\n",
        "    error=(x * theta)-y\n",
        "    for j in range(parameters):\n",
        "      term=np.multiply(error,x[:,j])\n",
        "\n",
        "      temp[0,j]=theta[0,j]-((alpha/len(x))*np.sum(term))\n",
        "    theta=temp\n",
        "    cost[i]=costFun(x,y,theta)\n",
        "  return theta,cost"
      ],
      "metadata": {
        "id": "cLPj-34ELOqf"
      },
      "execution_count": null,
      "outputs": []
    },
    {
      "cell_type": "code",
      "source": [
        "alpha=0.001\n",
        "iterations=1000"
      ],
      "metadata": {
        "id": "ZSqBBkuJLRkO"
      },
      "execution_count": null,
      "outputs": []
    },
    {
      "cell_type": "code",
      "source": [
        "print(gradientDescent(x_matrix,y_matrix,theta,alpha,iterations))"
      ],
      "metadata": {
        "colab": {
          "base_uri": "https://localhost:8080/"
        },
        "id": "XT3Eq96YLhT2",
        "outputId": "0057393f-a397-4a84-b168-44a2c18caa6a"
      },
      "execution_count": null,
      "outputs": [
        {
          "output_type": "stream",
          "name": "stdout",
          "text": [
            "(matrix([[5.04968443],\n",
            "        [0.        ]]), array([17.3252318 , 17.32063361, 17.31604461, 17.31146478, 17.3068941 ,\n",
            "       17.30233257, 17.29778015, 17.29323683, 17.2887026 , 17.28417742,\n",
            "       17.2796613 , 17.2751542 , 17.27065611, 17.26616701, 17.26168689,\n",
            "       17.25721572, 17.25275349, 17.24830018, 17.24385578, 17.23942025,\n",
            "       17.2349936 , 17.23057579, 17.22616681, 17.22176665, 17.21737528,\n",
            "       17.21299269, 17.20861887, 17.20425378, 17.19989742, 17.19554977,\n",
            "       17.19121081, 17.18688053, 17.1825589 , 17.17824591, 17.17394154,\n",
            "       17.16964577, 17.1653586 , 17.16107999, 17.15680994, 17.15254842,\n",
            "       17.14829542, 17.14405092, 17.13981491, 17.13558736, 17.13136827,\n",
            "       17.12715761, 17.12295536, 17.11876152, 17.11457606, 17.11039897,\n",
            "       17.10623022, 17.10206981, 17.09791772, 17.09377393, 17.08963842,\n",
            "       17.08551118, 17.08139218, 17.07728143, 17.07317888, 17.06908454,\n",
            "       17.06499839, 17.0609204 , 17.05685057, 17.05278887, 17.04873529,\n",
            "       17.04468981, 17.04065242, 17.0366231 , 17.03260183, 17.02858861,\n",
            "       17.0245834 , 17.02058621, 17.016597  , 17.01261577, 17.00864249,\n",
            "       17.00467716, 17.00071976, 16.99677026, 16.99282866, 16.98889494,\n",
            "       16.98496909, 16.98105108, 16.9771409 , 16.97323854, 16.96934398,\n",
            "       16.96545721, 16.9615782 , 16.95770695, 16.95384344, 16.94998765,\n",
            "       16.94613957, 16.94229918, 16.93846647, 16.93464142, 16.93082402,\n",
            "       16.92701425, 16.92321209, 16.91941753, 16.91563056, 16.91185116,\n",
            "       16.90807932, 16.90431501, 16.90055823, 16.89680896, 16.89306718,\n",
            "       16.88933288, 16.88560605, 16.88188667, 16.87817472, 16.8744702 ,\n",
            "       16.87077308, 16.86708335, 16.86340099, 16.859726  , 16.85605835,\n",
            "       16.85239803, 16.84874503, 16.84509934, 16.84146093, 16.83782979,\n",
            "       16.83420591, 16.83058928, 16.82697988, 16.82337769, 16.8197827 ,\n",
            "       16.8161949 , 16.81261427, 16.8090408 , 16.80547447, 16.80191527,\n",
            "       16.79836319, 16.79481821, 16.79128031, 16.78774949, 16.78422572,\n",
            "       16.780709  , 16.7771993 , 16.77369663, 16.77020095, 16.76671227,\n",
            "       16.76323055, 16.7597558 , 16.75628799, 16.75282712, 16.74937316,\n",
            "       16.74592611, 16.74248595, 16.73905266, 16.73562624, 16.73220667,\n",
            "       16.72879393, 16.72538802, 16.72198891, 16.7185966 , 16.71521107,\n",
            "       16.71183231, 16.7084603 , 16.70509503, 16.70173649, 16.69838466,\n",
            "       16.69503954, 16.6917011 , 16.68836933, 16.68504423, 16.68172577,\n",
            "       16.67841394, 16.67510874, 16.67181014, 16.66851814, 16.66523271,\n",
            "       16.66195386, 16.65868156, 16.6554158 , 16.65215656, 16.64890385,\n",
            "       16.64565763, 16.64241791, 16.63918466, 16.63595787, 16.63273754,\n",
            "       16.62952364, 16.62631617, 16.62311511, 16.61992045, 16.61673217,\n",
            "       16.61355027, 16.61037472, 16.60720553, 16.60404267, 16.60088613,\n",
            "       16.59773591, 16.59459198, 16.59145433, 16.58832296, 16.58519785,\n",
            "       16.58207898, 16.57896635, 16.57585994, 16.57275974, 16.56966574,\n",
            "       16.56657792, 16.56349628, 16.56042079, 16.55735146, 16.55428825,\n",
            "       16.55123118, 16.54818021, 16.54513534, 16.54209656, 16.53906386,\n",
            "       16.53603721, 16.53301662, 16.53000206, 16.52699353, 16.52399102,\n",
            "       16.5209945 , 16.51800398, 16.51501944, 16.51204086, 16.50906823,\n",
            "       16.50610155, 16.5031408 , 16.50018596, 16.49723704, 16.494294  ,\n",
            "       16.49135685, 16.48842558, 16.48550016, 16.48258059, 16.47966685,\n",
            "       16.47675894, 16.47385685, 16.47096055, 16.46807005, 16.46518532,\n",
            "       16.46230636, 16.45943315, 16.45656569, 16.45370396, 16.45084795,\n",
            "       16.44799765, 16.44515305, 16.44231413, 16.43948089, 16.43665331,\n",
            "       16.43383139, 16.4310151 , 16.42820445, 16.42539941, 16.42259998,\n",
            "       16.41980615, 16.4170179 , 16.41423523, 16.41145812, 16.40868656,\n",
            "       16.40592054, 16.40316005, 16.40040507, 16.39765561, 16.39491164,\n",
            "       16.39217316, 16.38944015, 16.3867126 , 16.38399051, 16.38127385,\n",
            "       16.37856263, 16.37585683, 16.37315644, 16.37046144, 16.36777183,\n",
            "       16.3650876 , 16.36240874, 16.35973523, 16.35706706, 16.35440423,\n",
            "       16.35174672, 16.34909452, 16.34644763, 16.34380602, 16.3411697 ,\n",
            "       16.33853865, 16.33591285, 16.33329231, 16.330677  , 16.32806692,\n",
            "       16.32546206, 16.32286241, 16.32026795, 16.31767868, 16.31509458,\n",
            "       16.31251565, 16.30994188, 16.30737325, 16.30480975, 16.30225138,\n",
            "       16.29969813, 16.29714998, 16.29460692, 16.29206894, 16.28953604,\n",
            "       16.2870082 , 16.28448542, 16.28196768, 16.27945497, 16.27694728,\n",
            "       16.27444461, 16.27194694, 16.26945426, 16.26696657, 16.26448385,\n",
            "       16.26200609, 16.25953328, 16.25706542, 16.25460249, 16.25214449,\n",
            "       16.24969139, 16.24724321, 16.24479991, 16.2423615 , 16.23992796,\n",
            "       16.23749929, 16.23507548, 16.23265651, 16.23024237, 16.22783306,\n",
            "       16.22542857, 16.22302888, 16.22063399, 16.21824389, 16.21585856,\n",
            "       16.213478  , 16.21110221, 16.20873116, 16.20636485, 16.20400327,\n",
            "       16.20164641, 16.19929427, 16.19694682, 16.19460407, 16.192266  ,\n",
            "       16.1899326 , 16.18760387, 16.1852798 , 16.18296037, 16.18064558,\n",
            "       16.17833541, 16.17602986, 16.17372892, 16.17143258, 16.16914083,\n",
            "       16.16685367, 16.16457107, 16.16229304, 16.16001956, 16.15775062,\n",
            "       16.15548623, 16.15322635, 16.150971  , 16.14872015, 16.1464738 ,\n",
            "       16.14423195, 16.14199457, 16.13976167, 16.13753323, 16.13530925,\n",
            "       16.13308971, 16.13087461, 16.12866393, 16.12645768, 16.12425583,\n",
            "       16.12205839, 16.11986534, 16.11767668, 16.11549238, 16.11331246,\n",
            "       16.11113689, 16.10896567, 16.1067988 , 16.10463625, 16.10247803,\n",
            "       16.10032412, 16.09817452, 16.09602921, 16.09388819, 16.09175145,\n",
            "       16.08961899, 16.08749078, 16.08536683, 16.08324713, 16.08113166,\n",
            "       16.07902043, 16.07691341, 16.0748106 , 16.072712  , 16.07061759,\n",
            "       16.06852737, 16.06644133, 16.06435946, 16.06228175, 16.0602082 ,\n",
            "       16.05813878, 16.05607351, 16.05401236, 16.05195534, 16.04990242,\n",
            "       16.04785361, 16.0458089 , 16.04376827, 16.04173172, 16.03969924,\n",
            "       16.03767083, 16.03564647, 16.03362616, 16.03160988, 16.02959764,\n",
            "       16.02758942, 16.02558521, 16.02358501, 16.02158881, 16.0195966 ,\n",
            "       16.01760837, 16.01562412, 16.01364383, 16.0116675 , 16.00969512,\n",
            "       16.00772668, 16.00576218, 16.00380161, 16.00184495, 15.99989221,\n",
            "       15.99794337, 15.99599843, 15.99405737, 15.99212019, 15.99018689,\n",
            "       15.98825745, 15.98633187, 15.98441014, 15.98249225, 15.98057819,\n",
            "       15.97866796, 15.97676154, 15.97485894, 15.97296014, 15.97106514,\n",
            "       15.96917393, 15.96728649, 15.96540283, 15.96352294, 15.9616468 ,\n",
            "       15.95977441, 15.95790577, 15.95604086, 15.95417968, 15.95232222,\n",
            "       15.95046847, 15.94861843, 15.94677208, 15.94492943, 15.94309046,\n",
            "       15.94125517, 15.93942354, 15.93759558, 15.93577127, 15.93395061,\n",
            "       15.93213359, 15.9303202 , 15.92851043, 15.92670428, 15.92490175,\n",
            "       15.92310281, 15.92130747, 15.91951573, 15.91772756, 15.91594297,\n",
            "       15.91416194, 15.91238447, 15.91061056, 15.9088402 , 15.90707337,\n",
            "       15.90531007, 15.9035503 , 15.90179405, 15.90004131, 15.89829207,\n",
            "       15.89654633, 15.89480408, 15.89306531, 15.89133002, 15.88959819,\n",
            "       15.88786983, 15.88614492, 15.88442347, 15.88270545, 15.88099086,\n",
            "       15.87927971, 15.87757197, 15.87586765, 15.87416674, 15.87246922,\n",
            "       15.8707751 , 15.86908437, 15.86739701, 15.86571303, 15.86403241,\n",
            "       15.86235516, 15.86068125, 15.8590107 , 15.85734348, 15.85567959,\n",
            "       15.85401903, 15.85236179, 15.85070787, 15.84905725, 15.84740993,\n",
            "       15.8457659 , 15.84412516, 15.8424877 , 15.84085351, 15.83922259,\n",
            "       15.83759492, 15.83597052, 15.83434936, 15.83273144, 15.83111675,\n",
            "       15.82950529, 15.82789706, 15.82629204, 15.82469022, 15.82309161,\n",
            "       15.8214962 , 15.81990397, 15.81831493, 15.81672906, 15.81514636,\n",
            "       15.81356683, 15.81199045, 15.81041723, 15.80884715, 15.80728021,\n",
            "       15.8057164 , 15.80415572, 15.80259816, 15.80104371, 15.79949236,\n",
            "       15.79794412, 15.79639898, 15.79485692, 15.79331795, 15.79178205,\n",
            "       15.79024922, 15.78871946, 15.78719275, 15.7856691 , 15.78414849,\n",
            "       15.78263092, 15.78111639, 15.77960488, 15.7780964 , 15.77659093,\n",
            "       15.77508846, 15.77358901, 15.77209255, 15.77059908, 15.7691086 ,\n",
            "       15.76762109, 15.76613656, 15.764655  , 15.7631764 , 15.76170075,\n",
            "       15.76022806, 15.75875831, 15.7572915 , 15.75582761, 15.75436666,\n",
            "       15.75290862, 15.75145351, 15.75000129, 15.74855199, 15.74710558,\n",
            "       15.74566206, 15.74422142, 15.74278367, 15.74134879, 15.73991678,\n",
            "       15.73848763, 15.73706134, 15.73563789, 15.7342173 , 15.73279954,\n",
            "       15.73138462, 15.72997253, 15.72856326, 15.7271568 , 15.72575316,\n",
            "       15.72435233, 15.72295429, 15.72155905, 15.7201666 , 15.71877693,\n",
            "       15.71739004, 15.71600592, 15.71462457, 15.71324598, 15.71187015,\n",
            "       15.71049706, 15.70912672, 15.70775912, 15.70639426, 15.70503212,\n",
            "       15.70367271, 15.70231601, 15.70096202, 15.69961074, 15.69826217,\n",
            "       15.69691629, 15.6955731 , 15.69423259, 15.69289476, 15.69155961,\n",
            "       15.69022713, 15.68889731, 15.68757015, 15.68624564, 15.68492378,\n",
            "       15.68360456, 15.68228798, 15.68097403, 15.67966271, 15.67835401,\n",
            "       15.67704792, 15.67574445, 15.67444358, 15.67314531, 15.67184964,\n",
            "       15.67055656, 15.66926606, 15.66797814, 15.6666928 , 15.66541002,\n",
            "       15.66412981, 15.66285216, 15.66157706, 15.66030452, 15.65903451,\n",
            "       15.65776705, 15.65650211, 15.65523971, 15.65397983, 15.65272247,\n",
            "       15.65146762, 15.65021528, 15.64896545, 15.64771811, 15.64647327,\n",
            "       15.64523091, 15.64399104, 15.64275365, 15.64151873, 15.64028628,\n",
            "       15.63905629, 15.63782876, 15.63660368, 15.63538106, 15.63416088,\n",
            "       15.63294313, 15.63172782, 15.63051494, 15.62930449, 15.62809645,\n",
            "       15.62689083, 15.62568762, 15.62448682, 15.62328841, 15.62209241,\n",
            "       15.62089879, 15.61970756, 15.6185187 , 15.61733223, 15.61614813,\n",
            "       15.61496639, 15.61378702, 15.61261   , 15.61143534, 15.61026303,\n",
            "       15.60909306, 15.60792542, 15.60676012, 15.60559716, 15.60443651,\n",
            "       15.60327819, 15.60212218, 15.60096848, 15.59981709, 15.598668  ,\n",
            "       15.59752121, 15.59637671, 15.59523449, 15.59409457, 15.59295692,\n",
            "       15.59182154, 15.59068843, 15.58955759, 15.58842901, 15.58730268,\n",
            "       15.58617861, 15.58505679, 15.5839372 , 15.58281986, 15.58170474,\n",
            "       15.58059186, 15.5794812 , 15.57837276, 15.57726654, 15.57616253,\n",
            "       15.57506073, 15.57396112, 15.57286372, 15.57176851, 15.57067549,\n",
            "       15.56958465, 15.568496  , 15.56740952, 15.56632521, 15.56524307,\n",
            "       15.5641631 , 15.56308528, 15.56200962, 15.5609361 , 15.55986474,\n",
            "       15.55879551, 15.55772842, 15.55666347, 15.55560064, 15.55453994,\n",
            "       15.55348136, 15.5524249 , 15.55137055, 15.5503183 , 15.54926816,\n",
            "       15.54822012, 15.54717417, 15.54613031, 15.54508854, 15.54404885,\n",
            "       15.54301125, 15.54197571, 15.54094225, 15.53991085, 15.53888151,\n",
            "       15.53785423, 15.536829  , 15.53580583, 15.5347847 , 15.53376561,\n",
            "       15.53274855, 15.53173353, 15.53072054, 15.52970958, 15.52870063,\n",
            "       15.5276937 , 15.52668879, 15.52568588, 15.52468498, 15.52368608,\n",
            "       15.52268918, 15.52169427, 15.52070134, 15.51971041, 15.51872145,\n",
            "       15.51773447, 15.51674946, 15.51576643, 15.51478535, 15.51380624,\n",
            "       15.51282909, 15.51185389, 15.51088064, 15.50990933, 15.50893997,\n",
            "       15.50797254, 15.50700705, 15.50604349, 15.50508185, 15.50412214,\n",
            "       15.50316434, 15.50220846, 15.50125449, 15.50030243, 15.49935227,\n",
            "       15.49840401, 15.49745764, 15.49651317, 15.49557058, 15.49462988,\n",
            "       15.49369106, 15.49275412, 15.49181905, 15.49088584, 15.48995451,\n",
            "       15.48902503, 15.48809742, 15.48717165, 15.48624774, 15.48532568,\n",
            "       15.48440546, 15.48348708, 15.48257053, 15.48165582, 15.48074293,\n",
            "       15.47983187, 15.47892263, 15.47801521, 15.4771096 , 15.4762058 ,\n",
            "       15.47530381, 15.47440362, 15.47350524, 15.47260864, 15.47171384,\n",
            "       15.47082083, 15.46992961, 15.46904016, 15.4681525 , 15.4672666 ,\n",
            "       15.46638248, 15.46550013, 15.46461954, 15.46374071, 15.46286363,\n",
            "       15.46198832, 15.46111475, 15.46024292, 15.45937284, 15.4585045 ,\n",
            "       15.45763789, 15.45677302, 15.45590987, 15.45504846, 15.45418876,\n",
            "       15.45333078, 15.45247452, 15.45161996, 15.45076712, 15.44991598,\n",
            "       15.44906654, 15.4482188 , 15.44737276, 15.44652841, 15.44568574,\n",
            "       15.44484476, 15.44400546, 15.44316784, 15.44233189, 15.44149761,\n",
            "       15.440665  , 15.43983406, 15.43900477, 15.43817715, 15.43735118,\n",
            "       15.43652686, 15.43570418, 15.43488316, 15.43406377, 15.43324602,\n",
            "       15.43242991, 15.43161542, 15.43080257, 15.42999134, 15.42918173,\n",
            "       15.42837374, 15.42756737, 15.4267626 , 15.42595945, 15.4251579 ,\n",
            "       15.42435796, 15.42355961, 15.42276286, 15.4219677 , 15.42117413,\n",
            "       15.42038215, 15.41959175, 15.41880293, 15.41801569, 15.41723002,\n",
            "       15.41644592, 15.41566339, 15.41488242, 15.41410302, 15.41332517,\n",
            "       15.41254888, 15.41177414, 15.41100095, 15.4102293 , 15.4094592 ,\n",
            "       15.40869063, 15.4079236 , 15.40715811, 15.40639414, 15.40563171,\n",
            "       15.40487079, 15.4041114 , 15.40335353, 15.40259717, 15.40184232,\n",
            "       15.40108898, 15.40033715, 15.39958682, 15.39883799, 15.39809066,\n",
            "       15.39734482, 15.39660047, 15.39585761, 15.39511624, 15.39437635,\n",
            "       15.39363793, 15.392901  , 15.39216553, 15.39143154, 15.39069901,\n",
            "       15.38996795, 15.38923835, 15.3885102 , 15.38778352, 15.38705828,\n",
            "       15.3863345 , 15.38561216, 15.38489126, 15.38417181, 15.3834538 ,\n",
            "       15.38273722, 15.38202207, 15.38130835, 15.38059606, 15.37988519,\n",
            "       15.37917575, 15.37846772, 15.37776111, 15.37705591, 15.37635212,\n",
            "       15.37564974, 15.37494876, 15.37424918, 15.373551  , 15.37285421,\n",
            "       15.37215882, 15.37146482, 15.37077221, 15.37008098, 15.36939113,\n",
            "       15.36870266, 15.36801557, 15.36732985, 15.36664551, 15.36596253,\n",
            "       15.36528091, 15.36460066, 15.36392177, 15.36324423, 15.36256805,\n",
            "       15.36189322, 15.36121974, 15.36054761, 15.35987682, 15.35920737,\n",
            "       15.35853926, 15.35787248, 15.35720704, 15.35654293, 15.35588015,\n",
            "       15.35521869, 15.35455855, 15.35389973, 15.35324223, 15.35258604,\n",
            "       15.35193117, 15.3512776 , 15.35062534, 15.34997439, 15.34932473,\n",
            "       15.34867638, 15.34802932, 15.34738355, 15.34673908, 15.34609589,\n",
            "       15.34545399, 15.34481337, 15.34417403, 15.34353597, 15.34289919,\n",
            "       15.34226368, 15.34162944, 15.34099647, 15.34036476, 15.33973431,\n",
            "       15.33910513, 15.3384772 , 15.33785053, 15.33722511, 15.33660095]))\n"
          ]
        }
      ]
    },
    {
      "cell_type": "code",
      "source": [
        "Theta,C=gradientDescent(x_matrix,y_matrix,theta=theta,alpha=alpha,iterations=iterations)\n",
        "Theta"
      ],
      "metadata": {
        "colab": {
          "base_uri": "https://localhost:8080/"
        },
        "id": "TK3cnDh7OPT5",
        "outputId": "05d7d392-8a6d-4375-9018-e33724415f4c"
      },
      "execution_count": null,
      "outputs": [
        {
          "output_type": "execute_result",
          "data": {
            "text/plain": [
              "matrix([[5.04968443],\n",
              "        [0.        ]])"
            ]
          },
          "metadata": {},
          "execution_count": 134
        }
      ]
    }
  ]
}